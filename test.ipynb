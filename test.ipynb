{
 "cells": [
  {
   "cell_type": "code",
   "execution_count": 22,
   "metadata": {},
   "outputs": [],
   "source": [
    "import pickle\n",
    "import torch\n",
    "\n",
    "feature = pickle.load(open(\"jit_extract_openstack.pkl\", 'rb'))\n",
    "feature = torch.tensor(feature)"
   ]
  },
  {
   "cell_type": "code",
   "execution_count": 23,
   "metadata": {},
   "outputs": [
    {
     "data": {
      "text/plain": [
       "tensor([[-2.4602e-01, -5.7936e-02, -9.7943e-02,  ...,  1.6343e-01,\n",
       "          8.7722e+01,  1.5803e+02],\n",
       "        [-4.9464e-03,  2.3652e-02, -3.2079e-03,  ...,  2.2734e-01,\n",
       "          8.6888e+01,  1.5906e+02],\n",
       "        [-3.6743e-02, -2.9446e-02, -5.4630e-02,  ...,  3.3700e-01,\n",
       "          8.7735e+01,  1.6569e+02],\n",
       "        ...,\n",
       "        [ 1.9783e-01, -4.4272e-02, -1.3921e-01,  ...,  4.4113e-01,\n",
       "          8.5680e+01,  1.5100e+02],\n",
       "        [-5.5791e-02, -2.8516e-02,  2.4168e-02,  ...,  2.6374e-01,\n",
       "          8.8073e+01,  1.6472e+02],\n",
       "        [-3.1897e-02, -1.2561e-01,  2.4340e-01,  ...,  4.5504e-01,\n",
       "          7.9690e+01,  1.3871e+02]])"
      ]
     },
     "execution_count": 23,
     "metadata": {},
     "output_type": "execute_result"
    }
   ],
   "source": [
    "feature"
   ]
  }
 ],
 "metadata": {
  "kernelspec": {
   "display_name": "manh-cc2vec",
   "language": "python",
   "name": "python3"
  },
  "language_info": {
   "codemirror_mode": {
    "name": "ipython",
    "version": 3
   },
   "file_extension": ".py",
   "mimetype": "text/x-python",
   "name": "python",
   "nbconvert_exporter": "python",
   "pygments_lexer": "ipython3",
   "version": "3.6.9"
  },
  "orig_nbformat": 4
 },
 "nbformat": 4,
 "nbformat_minor": 2
}
